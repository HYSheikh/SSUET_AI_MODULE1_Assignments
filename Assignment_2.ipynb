{
 "cells": [
  {
   "cell_type": "markdown",
   "metadata": {},
   "source": [
    "<h3>Q no 1:  Write a python program to find number of occurrences of given number in a list with out using built-in methods</h3>\n",
    "<h4>**1 generate a list of some random num which is repeated again and again</h4>\n",
    "<h4>**2 take user input any number</h4>\n",
    "<h4>**3 find the number of occurrences of that num in your list</h4>\n",
    "<h4>**4 print some message to user with that result</h4>"
   ]
  },
  {
   "cell_type": "code",
   "execution_count": 2,
   "metadata": {},
   "outputs": [
    {
     "name": "stdout",
     "output_type": "stream",
     "text": [
      "[49, 15, 18, 33, 8, 43, 22, 7, 45, 2]\n",
      "Enter some number 33\n",
      "The number appears in the list: 1 times\n"
     ]
    }
   ],
   "source": [
    "import random\n",
    "my_random=[]\n",
    "for x in range(10):\n",
    "    my_random.append(random.randint(1,50))\n",
    "print(my_random)\n",
    "\n",
    "Number=int(input(\"Enter some number \"))\n",
    "\n",
    "count=0\n",
    "for x in my_random:\n",
    "    if(x==Number):\n",
    "        count=count+1\n",
    "print(\"The number appears in the list:\",count,\"times\")"
   ]
  },
  {
   "cell_type": "markdown",
   "metadata": {},
   "source": [
    "<h3>Q no 2:   [\"www.zframez.com\", \"www.wikipedia.org\", \"www.asp.net\", \"www.abcd.in\"]\n",
    "<br/><br/><br/><br/><br/>\n",
    "Write a python program to print website suffixes (com , org , net ,in) from this list\n",
    "</h3>"
   ]
  },
  {
   "cell_type": "code",
   "execution_count": 3,
   "metadata": {},
   "outputs": [
    {
     "name": "stdout",
     "output_type": "stream",
     "text": [
      "['www.zframes.com', 'www.asp.net', 'www.wikipedia.org', 'www.abcd.in']\n",
      ".com\n",
      ".net\n",
      ".org\n",
      ".in\n"
     ]
    }
   ],
   "source": [
    "import random\n",
    "my_list=['www.zframes.com','www.asp.net','www.wikipedia.org','www.abcd.in']6\n",
    "print(my_list)\n",
    "for x in my_list:\n",
    "    y=x[-4:].index('.')\n",
    "    print(x[-4+y:])\n"
   ]
  },
  {
   "cell_type": "markdown",
   "metadata": {},
   "source": [
    "<h3> Q no 3 : Write a program which can compute the factorial of a given numbers.</h3>\n",
    "<br/>\n",
    "<br/>\n",
    "<h4>**1 first take user input any number</h4>\n",
    "<h4>**2 calculate factorial of that input and then print the result to user</h4>"
   ]
  },
  {
   "cell_type": "code",
   "execution_count": 4,
   "metadata": {},
   "outputs": [
    {
     "name": "stdout",
     "output_type": "stream",
     "text": [
      "Enter any number6\n",
      "The factorial of the number  6 is  720\n"
     ]
    }
   ],
   "source": [
    "number=int(input(\"Enter any number\"))\n",
    "fact=1\n",
    "y=1\n",
    "for x in range(number):\n",
    "    fact=fact*y\n",
    "    x=x+1\n",
    "    y=y+1\n",
    "print(\"The factorial of the number \",number,\"is \",fact)\n"
   ]
  },
  {
   "cell_type": "markdown",
   "metadata": {},
   "source": [
    "<h3>Q 4 (a) :  If you could invite anyone, living or deceased, to dinner, who\n",
    "would you invite? Make a list that includes at least three people you’d like to\n",
    "invite to dinner. Then use your list to print a message to each person, inviting\n",
    "them to dinner.</h3>"
   ]
  },
  {
   "cell_type": "code",
   "execution_count": 5,
   "metadata": {},
   "outputs": [
    {
     "name": "stdout",
     "output_type": "stream",
     "text": [
      "Sana  You are invited at dinner tonight, it would be pleasure if you come! :)\n",
      "Rameen  You are invited at dinner tonight, it would be pleasure if you come! :)\n",
      "Yamna  You are invited at dinner tonight, it would be pleasure if you come! :)\n",
      "Huda  You are invited at dinner tonight, it would be pleasure if you come! :)\n"
     ]
    }
   ],
   "source": [
    "members=['Sana','Rameen','Yamna','Huda']\n",
    "for x in members:\n",
    "    print(x,\" You are invited at dinner tonight, it would be pleasure if you come! :)\")"
   ]
  },
  {
   "cell_type": "markdown",
   "metadata": {},
   "source": [
    "<h3>Q 4 (b) : You just heard that one of your guests can’t make the\n",
    "dinner, so you need to send out a new set of invitations. You’ll have to think of\n",
    "someone else to invite.<br/></br><br/>\n",
    "•\t Start with your program from Q 4 (a). Add a print statement at the\n",
    "end of your program stating the name of the guest who can’t make it.<br/></br><br/>\n",
    "•\t Modify your list, replacing the name of the guest who can’t make it with\n",
    "the name of the new person you are inviting.<br/></br><br/>\n",
    "•\t Print a second set of invitation messages, one for each person who is still\n",
    "in your list.<br/></br><br/></h3>"
   ]
  },
  {
   "cell_type": "code",
   "execution_count": 6,
   "metadata": {},
   "outputs": [
    {
     "name": "stdout",
     "output_type": "stream",
     "text": [
      "Sana  You are invited at dinner tonight, it would be pleasure if you come! :)\n",
      "Rameen  You are invited at dinner tonight, it would be pleasure if you come! :)\n",
      "Yamna  You are invited at dinner tonight, it would be pleasure if you come! :)\n",
      "Huda  You are invited at dinner tonight, it would be pleasure if you come! :)\n",
      "Yamna Can't make it!\n"
     ]
    }
   ],
   "source": [
    "members=['Sana','Rameen','Yamna','Huda']\n",
    "for x in members:\n",
    "    print(x,\" You are invited at dinner tonight, it would be pleasure if you come! :)\")\n",
    "print(\"Yamna Can't make it!\")\n"
   ]
  },
  {
   "cell_type": "code",
   "execution_count": 7,
   "metadata": {},
   "outputs": [
    {
     "name": "stdout",
     "output_type": "stream",
     "text": [
      "['Sana', 'Rameen', 'Sara', 'Huda']\n"
     ]
    }
   ],
   "source": [
    "members=['Sana','Rameen','Yamna','Huda']\n",
    "index=members.index('Yamna')\n",
    "members[2]='Sara'\n",
    "print(members)"
   ]
  },
  {
   "cell_type": "code",
   "execution_count": 8,
   "metadata": {},
   "outputs": [
    {
     "name": "stdout",
     "output_type": "stream",
     "text": [
      "Sana  You are invited at dinner tonight, it would be pleasure if you come! :)\n",
      "Rameen  You are invited at dinner tonight, it would be pleasure if you come! :)\n",
      "Sara  You are invited at dinner tonight, it would be pleasure if you come! :)\n",
      "Huda  You are invited at dinner tonight, it would be pleasure if you come! :)\n"
     ]
    }
   ],
   "source": [
    "\n",
    "for x in members:\n",
    "    print(x,\" You are invited at dinner tonight, it would be pleasure if you come! :)\")\n",
    "\n"
   ]
  },
  {
   "cell_type": "markdown",
   "metadata": {},
   "source": [
    "<h3>Q 4 (c) : You just found a bigger dinner table, so now more space is\n",
    "available. Think of three more guests to invite to dinner.<br/></br><br/>\n",
    "•\t Start with your program from Q 4 (a) and (b) Add a print\n",
    "statement to the end of your program informing people that you found a\n",
    "bigger dinner table.<br/></br><br/>\n",
    "•\t Use insert() to add one new guest to the beginning of your list.<br/></br><br/>\n",
    "•\t Use insert() to add one new guest to the middle of your list.<br/></br><br/>\n",
    "•\t Use append() to add one new guest to the end of your list.<br/></br><br/>\n",
    "•\t Print a new set of invitation messages, one for each person in your list.<br/></br><br/></h3>"
   ]
  },
  {
   "cell_type": "code",
   "execution_count": 9,
   "metadata": {},
   "outputs": [
    {
     "name": "stdout",
     "output_type": "stream",
     "text": [
      "Sana  You are invited at dinner tonight, it would be pleasure if you come! :)\n",
      "Rameen  You are invited at dinner tonight, it would be pleasure if you come! :)\n",
      "Yamna  You are invited at dinner tonight, it would be pleasure if you come! :)\n",
      "Huda  You are invited at dinner tonight, it would be pleasure if you come! :)\n",
      "Yamna Can't make it!\n"
     ]
    }
   ],
   "source": [
    "members=['Sana','Rameen','Yamna','Huda']\n",
    "for x in members:\n",
    "    print(x,\" You are invited at dinner tonight, it would be pleasure if you come! :)\")\n",
    "print(\"Yamna Can't make it!\")"
   ]
  },
  {
   "cell_type": "code",
   "execution_count": 10,
   "metadata": {},
   "outputs": [
    {
     "name": "stdout",
     "output_type": "stream",
     "text": [
      "['Sana', 'Rameen', 'Sara', 'Huda']\n"
     ]
    }
   ],
   "source": [
    "members=['Sana','Rameen','Yamna','Huda']\n",
    "index=members.index('Yamna')\n",
    "members[2]='Sara'\n",
    "print(members)"
   ]
  },
  {
   "cell_type": "code",
   "execution_count": 11,
   "metadata": {},
   "outputs": [
    {
     "name": "stdout",
     "output_type": "stream",
     "text": [
      "Sana  You are invited at dinner tonight, it would be pleasure if you come! :)\n",
      "Rameen  You are invited at dinner tonight, it would be pleasure if you come! :)\n",
      "Sara  You are invited at dinner tonight, it would be pleasure if you come! :)\n",
      "Huda  You are invited at dinner tonight, it would be pleasure if you come! :)\n",
      "Found A Bigger Dinning Table!\n"
     ]
    }
   ],
   "source": [
    "\n",
    "for x in members:\n",
    "    print(x,\" You are invited at dinner tonight, it would be pleasure if you come! :)\")\n",
    "print(\"Found A Bigger Dinning Table!\")\n"
   ]
  },
  {
   "cell_type": "code",
   "execution_count": 12,
   "metadata": {},
   "outputs": [
    {
     "name": "stdout",
     "output_type": "stream",
     "text": [
      "['Maryam', 'Sana', 'Rameen', 'Aisha', 'Yamna', 'Huda', 'Fizza']\n"
     ]
    }
   ],
   "source": [
    "members=['Sana','Rameen','Yamna','Huda']\n",
    "members.insert(0,'Maryam')\n",
    "index=len(members)\n",
    "members.insert(int((index/2)+1),'Aisha')\n",
    "members.append('Fizza')\n",
    "print(members)"
   ]
  },
  {
   "cell_type": "markdown",
   "metadata": {},
   "source": [
    "<h5> Q 5 : Here you have some data in variable below, your task is to make a list of specific word Surah then print the list and length of list</h5>\n"
   ]
  },
  {
   "cell_type": "code",
   "execution_count": 13,
   "metadata": {},
   "outputs": [],
   "source": [
    "data = \"Sura I Who believe in the Unseen, Sura Are steadfast in prayer, And spend Sura out of what We Have provided for them;\"\n"
   ]
  },
  {
   "cell_type": "code",
   "execution_count": 14,
   "metadata": {},
   "outputs": [
    {
     "name": "stdout",
     "output_type": "stream",
     "text": [
      "['Sura', 'Sura', 'Sura']\n",
      "3\n"
     ]
    }
   ],
   "source": [
    "data = \"Sura I Who believe in the Unseen, Sura Are steadfast in prayer, And spend Sura out of what We Have provided for them;\"\n",
    "list_=[]\n",
    "for x in data:\n",
    "    if x=='S':\n",
    "        ind=data.index(x)\n",
    "        if data[ind+1]=='u':\n",
    "            if data[ind+2]=='r':\n",
    "                if data[ind+3]=='a':\n",
    "                    list_.append('Sura')\n",
    "print(list_)\n",
    "print(len(list_))"
   ]
  },
  {
   "cell_type": "code",
   "execution_count": null,
   "metadata": {},
   "outputs": [],
   "source": []
  }
 ],
 "metadata": {
  "kernelspec": {
   "display_name": "Python 3",
   "language": "python",
   "name": "python3"
  },
  "language_info": {
   "codemirror_mode": {
    "name": "ipython",
    "version": 3
   },
   "file_extension": ".py",
   "mimetype": "text/x-python",
   "name": "python",
   "nbconvert_exporter": "python",
   "pygments_lexer": "ipython3",
   "version": "3.6.5"
  }
 },
 "nbformat": 4,
 "nbformat_minor": 2
}
